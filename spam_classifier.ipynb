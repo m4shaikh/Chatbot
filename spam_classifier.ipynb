{
  "nbformat": 4,
  "nbformat_minor": 0,
  "metadata": {
    "colab": {
      "provenance": [],
      "authorship_tag": "ABX9TyPttM84FWp0l7Mo90esrTkD",
      "include_colab_link": true
    },
    "kernelspec": {
      "name": "python3",
      "display_name": "Python 3"
    },
    "language_info": {
      "name": "python"
    }
  },
  "cells": [
    {
      "cell_type": "markdown",
      "metadata": {
        "id": "view-in-github",
        "colab_type": "text"
      },
      "source": [
        "<a href=\"https://colab.research.google.com/github/m4shaikh/Chatbot/blob/main/spam_classifier.ipynb\" target=\"_parent\"><img src=\"https://colab.research.google.com/assets/colab-badge.svg\" alt=\"Open In Colab\"/></a>"
      ]
    },
    {
      "cell_type": "code",
      "source": [
        "import numpy as np\n",
        "import pandas as pd\n",
        "from sklearn.model_selection import train_test_split\n",
        "from sklearn.feature_extraction.text import TfidfVectorizer\n",
        "from sklearn.linear_model import LogisticRegression\n",
        "from sklearn.metrics import accuracy_score   \n",
        "\n",
        "#reading data from dataset\n",
        "raw_data = pd.read_csv('/content/mail_data.csv')\n",
        "\n",
        "#removing null value by replacing them with nulll value.\n",
        "data = raw_data.where((pd.notnull(raw_data)),'')\n",
        "data.head()\n",
        "\n"
      ],
      "metadata": {
        "id": "9BGyXQ6XJmNd",
        "colab": {
          "base_uri": "https://localhost:8080/",
          "height": 228
        },
        "outputId": "56af6b15-53dc-4dc6-b65c-1edeabb17c14"
      },
      "execution_count": null,
      "outputs": [
        {
          "output_type": "execute_result",
          "data": {
            "text/plain": [
              "  Category                                            Message\n",
              "0      ham  Go until jurong point, crazy.. Available only ...\n",
              "1      ham                      Ok lar... Joking wif u oni...\n",
              "2     spam  Free entry in 2 a wkly comp to win FA Cup fina...\n",
              "3      ham  U dun say so early hor... U c already then say...\n",
              "4      ham  Nah I don't think he goes to usf, he lives aro..."
            ],
            "text/html": [
              "\n",
              "  <div id=\"df-7926b14a-0c30-4493-87aa-e48dbf8ad0a4\">\n",
              "    <div class=\"colab-df-container\">\n",
              "      <div>\n",
              "<style scoped>\n",
              "    .dataframe tbody tr th:only-of-type {\n",
              "        vertical-align: middle;\n",
              "    }\n",
              "\n",
              "    .dataframe tbody tr th {\n",
              "        vertical-align: top;\n",
              "    }\n",
              "\n",
              "    .dataframe thead th {\n",
              "        text-align: right;\n",
              "    }\n",
              "</style>\n",
              "<table border=\"1\" class=\"dataframe\">\n",
              "  <thead>\n",
              "    <tr style=\"text-align: right;\">\n",
              "      <th></th>\n",
              "      <th>Category</th>\n",
              "      <th>Message</th>\n",
              "    </tr>\n",
              "  </thead>\n",
              "  <tbody>\n",
              "    <tr>\n",
              "      <th>0</th>\n",
              "      <td>ham</td>\n",
              "      <td>Go until jurong point, crazy.. Available only ...</td>\n",
              "    </tr>\n",
              "    <tr>\n",
              "      <th>1</th>\n",
              "      <td>ham</td>\n",
              "      <td>Ok lar... Joking wif u oni...</td>\n",
              "    </tr>\n",
              "    <tr>\n",
              "      <th>2</th>\n",
              "      <td>spam</td>\n",
              "      <td>Free entry in 2 a wkly comp to win FA Cup fina...</td>\n",
              "    </tr>\n",
              "    <tr>\n",
              "      <th>3</th>\n",
              "      <td>ham</td>\n",
              "      <td>U dun say so early hor... U c already then say...</td>\n",
              "    </tr>\n",
              "    <tr>\n",
              "      <th>4</th>\n",
              "      <td>ham</td>\n",
              "      <td>Nah I don't think he goes to usf, he lives aro...</td>\n",
              "    </tr>\n",
              "  </tbody>\n",
              "</table>\n",
              "</div>\n",
              "      <button class=\"colab-df-convert\" onclick=\"convertToInteractive('df-7926b14a-0c30-4493-87aa-e48dbf8ad0a4')\"\n",
              "              title=\"Convert this dataframe to an interactive table.\"\n",
              "              style=\"display:none;\">\n",
              "        \n",
              "  <svg xmlns=\"http://www.w3.org/2000/svg\" height=\"24px\"viewBox=\"0 0 24 24\"\n",
              "       width=\"24px\">\n",
              "    <path d=\"M0 0h24v24H0V0z\" fill=\"none\"/>\n",
              "    <path d=\"M18.56 5.44l.94 2.06.94-2.06 2.06-.94-2.06-.94-.94-2.06-.94 2.06-2.06.94zm-11 1L8.5 8.5l.94-2.06 2.06-.94-2.06-.94L8.5 2.5l-.94 2.06-2.06.94zm10 10l.94 2.06.94-2.06 2.06-.94-2.06-.94-.94-2.06-.94 2.06-2.06.94z\"/><path d=\"M17.41 7.96l-1.37-1.37c-.4-.4-.92-.59-1.43-.59-.52 0-1.04.2-1.43.59L10.3 9.45l-7.72 7.72c-.78.78-.78 2.05 0 2.83L4 21.41c.39.39.9.59 1.41.59.51 0 1.02-.2 1.41-.59l7.78-7.78 2.81-2.81c.8-.78.8-2.07 0-2.86zM5.41 20L4 18.59l7.72-7.72 1.47 1.35L5.41 20z\"/>\n",
              "  </svg>\n",
              "      </button>\n",
              "      \n",
              "  <style>\n",
              "    .colab-df-container {\n",
              "      display:flex;\n",
              "      flex-wrap:wrap;\n",
              "      gap: 12px;\n",
              "    }\n",
              "\n",
              "    .colab-df-convert {\n",
              "      background-color: #E8F0FE;\n",
              "      border: none;\n",
              "      border-radius: 50%;\n",
              "      cursor: pointer;\n",
              "      display: none;\n",
              "      fill: #1967D2;\n",
              "      height: 32px;\n",
              "      padding: 0 0 0 0;\n",
              "      width: 32px;\n",
              "    }\n",
              "\n",
              "    .colab-df-convert:hover {\n",
              "      background-color: #E2EBFA;\n",
              "      box-shadow: 0px 1px 2px rgba(60, 64, 67, 0.3), 0px 1px 3px 1px rgba(60, 64, 67, 0.15);\n",
              "      fill: #174EA6;\n",
              "    }\n",
              "\n",
              "    [theme=dark] .colab-df-convert {\n",
              "      background-color: #3B4455;\n",
              "      fill: #D2E3FC;\n",
              "    }\n",
              "\n",
              "    [theme=dark] .colab-df-convert:hover {\n",
              "      background-color: #434B5C;\n",
              "      box-shadow: 0px 1px 3px 1px rgba(0, 0, 0, 0.15);\n",
              "      filter: drop-shadow(0px 1px 2px rgba(0, 0, 0, 0.3));\n",
              "      fill: #FFFFFF;\n",
              "    }\n",
              "  </style>\n",
              "\n",
              "      <script>\n",
              "        const buttonEl =\n",
              "          document.querySelector('#df-7926b14a-0c30-4493-87aa-e48dbf8ad0a4 button.colab-df-convert');\n",
              "        buttonEl.style.display =\n",
              "          google.colab.kernel.accessAllowed ? 'block' : 'none';\n",
              "\n",
              "        async function convertToInteractive(key) {\n",
              "          const element = document.querySelector('#df-7926b14a-0c30-4493-87aa-e48dbf8ad0a4');\n",
              "          const dataTable =\n",
              "            await google.colab.kernel.invokeFunction('convertToInteractive',\n",
              "                                                     [key], {});\n",
              "          if (!dataTable) return;\n",
              "\n",
              "          const docLinkHtml = 'Like what you see? Visit the ' +\n",
              "            '<a target=\"_blank\" href=https://colab.research.google.com/notebooks/data_table.ipynb>data table notebook</a>'\n",
              "            + ' to learn more about interactive tables.';\n",
              "          element.innerHTML = '';\n",
              "          dataTable['output_type'] = 'display_data';\n",
              "          await google.colab.output.renderOutput(dataTable, element);\n",
              "          const docLink = document.createElement('div');\n",
              "          docLink.innerHTML = docLinkHtml;\n",
              "          element.appendChild(docLink);\n",
              "        }\n",
              "      </script>\n",
              "    </div>\n",
              "  </div>\n",
              "  "
            ]
          },
          "metadata": {},
          "execution_count": 33
        }
      ]
    },
    {
      "cell_type": "markdown",
      "source": [
        "**Lable Encoding**"
      ],
      "metadata": {
        "id": "V5rPMLF9ANx_"
      }
    },
    {
      "cell_type": "code",
      "source": [
        "data.loc[data['Category'] == 'spam', 'Category',] = 0 # Spam(Fake) ==> 0\n",
        "data.loc[data['Category'] == 'ham', 'Category',] = 1  # Ham(Real) ==> 1\n",
        "\n",
        "X = data['Message']   # X ==> Data \n",
        "Y = data['Category']  # Y ==> Lable"
      ],
      "metadata": {
        "id": "SeHLeqJpAX4S"
      },
      "execution_count": null,
      "outputs": []
    },
    {
      "cell_type": "markdown",
      "source": [
        "**Creating train test Split**"
      ],
      "metadata": {
        "id": "kmJT4h6qCTLD"
      }
    },
    {
      "cell_type": "code",
      "source": [
        "# Train ==>80% , Test ==> 20%\n",
        "\n",
        "X_train, X_test, Y_train, Y_test = train_test_split(X, Y, test_size=0.2, random_state=3)\n",
        "X_train.shape, X_test.shape"
      ],
      "metadata": {
        "id": "GiZufw-aCP94",
        "colab": {
          "base_uri": "https://localhost:8080/"
        },
        "outputId": "49e32075-fad9-4990-8cb4-c0e250e2b77f"
      },
      "execution_count": null,
      "outputs": [
        {
          "output_type": "execute_result",
          "data": {
            "text/plain": [
              "((4457,), (1115,))"
            ]
          },
          "metadata": {},
          "execution_count": 35
        }
      ]
    },
    {
      "cell_type": "markdown",
      "source": [
        "**Converting Textdata To Feature Vectors**"
      ],
      "metadata": {
        "id": "VpNOVbbxDBFa"
      }
    },
    {
      "cell_type": "code",
      "source": [
        "fvectors = TfidfVectorizer(min_df = 1, stop_words='english', lowercase=True)\n",
        "\n",
        "X_train_fvector = fvectors.fit_transform(X_train)\n",
        "X_test_fvector = fvectors.transform(X_test)\n",
        "\n",
        "Y_train = Y_train.astype('int')\n",
        "Y_test = Y_test.astype('int')\n",
        "     \n",
        "print(X_test_fvector),\n",
        "print(X_train_fvector)"
      ],
      "metadata": {
        "id": "IQlou9goDfzx",
        "colab": {
          "base_uri": "https://localhost:8080/"
        },
        "outputId": "e57e9f38-810a-41b4-d203-69afc55dfb4b"
      },
      "execution_count": null,
      "outputs": [
        {
          "output_type": "stream",
          "name": "stdout",
          "text": [
            "  (0, 7271)\t0.1940327008179069\n",
            "  (0, 6920)\t0.20571591693537986\n",
            "  (0, 5373)\t0.2365698724638063\n",
            "  (0, 5213)\t0.1988547357502182\n",
            "  (0, 4386)\t0.18353336340308998\n",
            "  (0, 1549)\t0.2646498848307188\n",
            "  (0, 1405)\t0.3176863938914351\n",
            "  (0, 1361)\t0.25132445289897426\n",
            "  (0, 1082)\t0.2451068436245027\n",
            "  (0, 1041)\t0.28016206931555726\n",
            "  (0, 405)\t0.2381316303003606\n",
            "  (0, 306)\t0.23975986557206702\n",
            "  (0, 20)\t0.30668032384591537\n",
            "  (0, 14)\t0.26797874471323896\n",
            "  (0, 9)\t0.2852706805264544\n",
            "  (0, 1)\t0.2381316303003606\n",
            "  (1, 7368)\t0.29957800964520975\n",
            "  (1, 6732)\t0.42473488678029325\n",
            "  (1, 6588)\t0.3298937975962767\n",
            "  (1, 6507)\t0.26731535902873493\n",
            "  (1, 6214)\t0.3621564482127515\n",
            "  (1, 4729)\t0.22965776503163893\n",
            "  (1, 4418)\t0.3457696891316818\n",
            "  (1, 3491)\t0.496093956101028\n",
            "  (2, 7205)\t0.22341717215670331\n",
            "  :\t:\n",
            "  (1110, 3167)\t0.5718357066163949\n",
            "  (1111, 7353)\t0.4991205841293424\n",
            "  (1111, 6787)\t0.40050175714278885\n",
            "  (1111, 6033)\t0.4714849709283488\n",
            "  (1111, 3227)\t0.44384935772735523\n",
            "  (1111, 2440)\t0.4137350055985486\n",
            "  (1112, 7071)\t0.33558524648843113\n",
            "  (1112, 6777)\t0.32853717524096393\n",
            "  (1112, 6297)\t0.3056896872268727\n",
            "  (1112, 5778)\t0.22807428098549426\n",
            "  (1112, 5695)\t0.3381604952481646\n",
            "  (1112, 5056)\t0.2559183043595413\n",
            "  (1112, 4170)\t0.3307835623173863\n",
            "  (1112, 2329)\t0.241856898377491\n",
            "  (1112, 1683)\t0.4017087436272034\n",
            "  (1112, 1109)\t0.35334496762883244\n",
            "  (1113, 4080)\t0.3045947361955407\n",
            "  (1113, 4038)\t0.37023520529413706\n",
            "  (1113, 3811)\t0.28103080586555096\n",
            "  (1113, 3281)\t0.33232508601719535\n",
            "  (1113, 3113)\t0.33840833425155675\n",
            "  (1113, 2852)\t0.5956422931588335\n",
            "  (1113, 2224)\t0.3337959267435311\n",
            "  (1114, 4557)\t0.5196253874825217\n",
            "  (1114, 4033)\t0.8543942045002639\n",
            "  (0, 5413)\t0.6198254967574347\n",
            "  (0, 4456)\t0.4168658090846482\n",
            "  (0, 2224)\t0.413103377943378\n",
            "  (0, 3811)\t0.34780165336891333\n",
            "  (0, 2329)\t0.38783870336935383\n",
            "  (1, 4080)\t0.18880584110891163\n",
            "  (1, 3185)\t0.29694482957694585\n",
            "  (1, 3325)\t0.31610586766078863\n",
            "  (1, 2957)\t0.3398297002864083\n",
            "  (1, 2746)\t0.3398297002864083\n",
            "  (1, 918)\t0.22871581159877646\n",
            "  (1, 1839)\t0.2784903590561455\n",
            "  (1, 2758)\t0.3226407885943799\n",
            "  (1, 2956)\t0.33036995955537024\n",
            "  (1, 1991)\t0.33036995955537024\n",
            "  (1, 3046)\t0.2503712792613518\n",
            "  (1, 3811)\t0.17419952275504033\n",
            "  (2, 407)\t0.509272536051008\n",
            "  (2, 3156)\t0.4107239318312698\n",
            "  (2, 2404)\t0.45287711070606745\n",
            "  (2, 6601)\t0.6056811524587518\n",
            "  (3, 2870)\t0.5864269879324768\n",
            "  (3, 7414)\t0.8100020912469564\n",
            "  (4, 50)\t0.23633754072626942\n",
            "  (4, 5497)\t0.15743785051118356\n",
            "  :\t:\n",
            "  (4454, 4602)\t0.2669765732445391\n",
            "  (4454, 3142)\t0.32014451677763156\n",
            "  (4455, 2247)\t0.37052851863170466\n",
            "  (4455, 2469)\t0.35441545511837946\n",
            "  (4455, 5646)\t0.33545678464631296\n",
            "  (4455, 6810)\t0.29731757715898277\n",
            "  (4455, 6091)\t0.23103841516927642\n",
            "  (4455, 7113)\t0.30536590342067704\n",
            "  (4455, 3872)\t0.3108911491788658\n",
            "  (4455, 4715)\t0.30714144758811196\n",
            "  (4455, 6916)\t0.19636985317119715\n",
            "  (4455, 3922)\t0.31287563163368587\n",
            "  (4455, 4456)\t0.24920025316220423\n",
            "  (4456, 141)\t0.292943737785358\n",
            "  (4456, 647)\t0.30133182431707617\n",
            "  (4456, 6311)\t0.30133182431707617\n",
            "  (4456, 5569)\t0.4619395404299172\n",
            "  (4456, 6028)\t0.21034888000987115\n",
            "  (4456, 7154)\t0.24083218452280053\n",
            "  (4456, 7150)\t0.3677554681447669\n",
            "  (4456, 6249)\t0.17573831794959716\n",
            "  (4456, 6307)\t0.2752760476857975\n",
            "  (4456, 334)\t0.2220077711654938\n",
            "  (4456, 5778)\t0.16243064490100795\n",
            "  (4456, 2870)\t0.31523196273113385\n"
          ]
        }
      ]
    },
    {
      "cell_type": "markdown",
      "source": [
        "**Using Logistics Rgression model**\n"
      ],
      "metadata": {
        "id": "lSJnyE8DY6sx"
      }
    },
    {
      "cell_type": "code",
      "source": [
        "# Training it with 'X_train_fvectors' and 'Y_train' dataset"
      ],
      "metadata": {
        "id": "M-i9Ff_eZJA6"
      },
      "execution_count": null,
      "outputs": []
    },
    {
      "cell_type": "code",
      "source": [
        "model = LogisticRegression()\n",
        "\n",
        "#Feeding dataset to logistics regression model \n",
        "model.fit(X_train_fvector,Y_train)\n",
        "\n",
        "#Making pridictions on training data using trined model \n",
        "prediction_on_training_data = model.predict(X_train_fvector)\n",
        "prediction_on_testing_data = model.predict(X_test_fvector)\n",
        "\n",
        "#Checking acuraccy of trained model on training data\n",
        "accuracy_on_training_data = accuracy_score(Y_train, prediction_on_training_data)\n",
        "accuracy_on_testing_data = accuracy_score(Y_test, prediction_on_testing_data)\n",
        "print('accuraccy of model on training data: ', accuracy_on_training_data)\n",
        "print('accuraccy of model on testing data: ', accuracy_on_testing_data)\n"
      ],
      "metadata": {
        "colab": {
          "base_uri": "https://localhost:8080/"
        },
        "id": "o_mLKE-OZnWq",
        "outputId": "4f768d69-06fa-46db-8b04-147ca70f0208"
      },
      "execution_count": null,
      "outputs": [
        {
          "output_type": "stream",
          "name": "stdout",
          "text": [
            "accuraccy of model on training data:  0.9670181736594121\n",
            "accuraccy of model on testing data:  0.9659192825112107\n"
          ]
        }
      ]
    },
    {
      "cell_type": "markdown",
      "source": [
        "**Making prediction model for other data**"
      ],
      "metadata": {
        "id": "2FzTX0jCiEar"
      }
    },
    {
      "cell_type": "code",
      "source": [
        "IP = [input('Enter your mail here: ')]\n",
        "IPvectors=fvectors.transform(IP)\n",
        "\n",
        "prediction = model.predict(IPvectors)\n",
        "print(prediction)\n",
        "\n",
        "if (prediction[0]==1):\n",
        "  print('Ham mail')\n",
        "\n",
        "else:\n",
        "  print('Spam mail')"
      ],
      "metadata": {
        "colab": {
          "base_uri": "https://localhost:8080/"
        },
        "id": "LKBqZ5WliEAJ",
        "outputId": "9febf577-c874-4c2a-faa6-2b4d5a5505ea"
      },
      "execution_count": null,
      "outputs": [
        {
          "output_type": "stream",
          "name": "stdout",
          "text": [
            "Enter your mail here: buy our product on only 52626\n",
            "[1]\n",
            "Ham mail\n"
          ]
        }
      ]
    }
  ]
}